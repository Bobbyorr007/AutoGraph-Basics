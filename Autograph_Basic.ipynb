{
  "nbformat": 4,
  "nbformat_minor": 0,
  "metadata": {
    "colab": {
      "name": "Autograph: Basic",
      "provenance": [],
      "authorship_tag": "ABX9TyMlUqU8/JRkDbD8uH9djDSO",
      "include_colab_link": true
    },
    "kernelspec": {
      "name": "python3",
      "display_name": "Python 3"
    },
    "language_info": {
      "name": "python"
    }
  },
  "cells": [
    {
      "cell_type": "markdown",
      "metadata": {
        "id": "view-in-github",
        "colab_type": "text"
      },
      "source": [
        "<a href=\"https://colab.research.google.com/github/Bobbyorr007/AutoGraph-Basics/blob/main/Autograph_Basic.ipynb\" target=\"_parent\"><img src=\"https://colab.research.google.com/assets/colab-badge.svg\" alt=\"Open In Colab\"/></a>"
      ]
    },
    {
      "cell_type": "code",
      "execution_count": 1,
      "metadata": {
        "id": "hSZtjaVAYZ0w"
      },
      "outputs": [],
      "source": [
        "# Imports\n",
        "\n",
        "import tensorflow as tf"
      ]
    },
    {
      "cell_type": "code",
      "source": [
        "# You can use the @tf.function decorator to automatically generate the graph-style code as shown below:\n",
        "\n",
        "@tf.function\n",
        "def add(a,b):\n",
        "  return a+b\n",
        "\n",
        "a=tf.Variable([[1.,2.],[3.,4.]])\n",
        "b=tf.Variable([[5.,6.],[7.,8.]])\n",
        "print(tf.add(a,b))\n",
        "\n",
        "# See what the generated code looks like\n",
        "print(tf.autograph.to_code(add.python_function))"
      ],
      "metadata": {
        "colab": {
          "base_uri": "https://localhost:8080/"
        },
        "id": "j9UY3zFvZqzT",
        "outputId": "167f2094-e805-464f-ec73-db34ff432d39"
      },
      "execution_count": 2,
      "outputs": [
        {
          "output_type": "stream",
          "name": "stdout",
          "text": [
            "tf.Tensor(\n",
            "[[ 6.  8.]\n",
            " [10. 12.]], shape=(2, 2), dtype=float32)\n",
            "def tf__add(a, b):\n",
            "    with ag__.FunctionScope('add', 'fscope', ag__.ConversionOptions(recursive=True, user_requested=True, optional_features=(), internal_convert_user_code=True)) as fscope:\n",
            "        do_return = False\n",
            "        retval_ = ag__.UndefinedReturnValue()\n",
            "        try:\n",
            "            do_return = True\n",
            "            retval_ = (ag__.ld(a) + ag__.ld(b))\n",
            "        except:\n",
            "            do_return = False\n",
            "            raise\n",
            "        return fscope.ret(retval_, do_return)\n",
            "\n"
          ]
        }
      ]
    },
    {
      "cell_type": "code",
      "source": [
        "# simple function that returns the square if the input is greater than zero\n",
        "@tf.function\n",
        "def f(x):\n",
        "    if x>0:\n",
        "        x = x * x\n",
        "    return x\n",
        "\n",
        "print(tf.autograph.to_code(f.python_function))"
      ],
      "metadata": {
        "colab": {
          "base_uri": "https://localhost:8080/"
        },
        "id": "ia4xrq8jap9X",
        "outputId": "4e1672b4-6ee7-46f8-965c-d2e30ba93440"
      },
      "execution_count": 3,
      "outputs": [
        {
          "output_type": "stream",
          "name": "stdout",
          "text": [
            "def tf__f(x):\n",
            "    with ag__.FunctionScope('f', 'fscope', ag__.ConversionOptions(recursive=True, user_requested=True, optional_features=(), internal_convert_user_code=True)) as fscope:\n",
            "        do_return = False\n",
            "        retval_ = ag__.UndefinedReturnValue()\n",
            "\n",
            "        def get_state():\n",
            "            return (x,)\n",
            "\n",
            "        def set_state(vars_):\n",
            "            nonlocal x\n",
            "            (x,) = vars_\n",
            "\n",
            "        def if_body():\n",
            "            nonlocal x\n",
            "            x = (ag__.ld(x) * ag__.ld(x))\n",
            "\n",
            "        def else_body():\n",
            "            nonlocal x\n",
            "            pass\n",
            "        ag__.if_stmt((ag__.ld(x) > 0), if_body, else_body, get_state, set_state, ('x',), 1)\n",
            "        try:\n",
            "            do_return = True\n",
            "            retval_ = ag__.ld(x)\n",
            "        except:\n",
            "            do_return = False\n",
            "            raise\n",
            "        return fscope.ret(retval_, do_return)\n",
            "\n"
          ]
        }
      ]
    },
    {
      "cell_type": "code",
      "source": [
        "@tf.function\n",
        "def fizzbuzz(max_num):\n",
        "    counter = 0\n",
        "    for num in range(max_num):\n",
        "        if num % 3 == 0 and num % 5 == 0:\n",
        "            print('FizzBuzz')\n",
        "        elif num % 3 == 0:\n",
        "            print('Fizz')\n",
        "        elif num % 5 == 0:\n",
        "            print('Buzz')\n",
        "        else:\n",
        "            print(num)\n",
        "        counter += 1\n",
        "    return counter\n",
        "\n",
        "print(tf.autograph.to_code(fizzbuzz.python_function))"
      ],
      "metadata": {
        "colab": {
          "base_uri": "https://localhost:8080/"
        },
        "id": "Byoc_NcHbu5b",
        "outputId": "b7183a0c-d1ec-4db2-8de8-65e6c6720d8e"
      },
      "execution_count": 4,
      "outputs": [
        {
          "output_type": "stream",
          "name": "stdout",
          "text": [
            "def tf__fizzbuzz(max_num):\n",
            "    with ag__.FunctionScope('fizzbuzz', 'fscope', ag__.ConversionOptions(recursive=True, user_requested=True, optional_features=(), internal_convert_user_code=True)) as fscope:\n",
            "        do_return = False\n",
            "        retval_ = ag__.UndefinedReturnValue()\n",
            "        counter = 0\n",
            "\n",
            "        def get_state_3():\n",
            "            return (counter,)\n",
            "\n",
            "        def set_state_3(vars_):\n",
            "            nonlocal counter\n",
            "            (counter,) = vars_\n",
            "\n",
            "        def loop_body(itr):\n",
            "            nonlocal counter\n",
            "            num = itr\n",
            "\n",
            "            def get_state_2():\n",
            "                return ()\n",
            "\n",
            "            def set_state_2(block_vars):\n",
            "                pass\n",
            "\n",
            "            def if_body_2():\n",
            "                ag__.ld(print)('FizzBuzz')\n",
            "\n",
            "            def else_body_2():\n",
            "\n",
            "                def get_state_1():\n",
            "                    return ()\n",
            "\n",
            "                def set_state_1(block_vars):\n",
            "                    pass\n",
            "\n",
            "                def if_body_1():\n",
            "                    ag__.ld(print)('Fizz')\n",
            "\n",
            "                def else_body_1():\n",
            "\n",
            "                    def get_state():\n",
            "                        return ()\n",
            "\n",
            "                    def set_state(block_vars):\n",
            "                        pass\n",
            "\n",
            "                    def if_body():\n",
            "                        ag__.ld(print)('Buzz')\n",
            "\n",
            "                    def else_body():\n",
            "                        ag__.ld(print)(ag__.ld(num))\n",
            "                    ag__.if_stmt(((ag__.ld(num) % 5) == 0), if_body, else_body, get_state, set_state, (), 0)\n",
            "                ag__.if_stmt(((ag__.ld(num) % 3) == 0), if_body_1, else_body_1, get_state_1, set_state_1, (), 0)\n",
            "            ag__.if_stmt(ag__.and_((lambda : ((ag__.ld(num) % 3) == 0)), (lambda : ((ag__.ld(num) % 5) == 0))), if_body_2, else_body_2, get_state_2, set_state_2, (), 0)\n",
            "            counter = ag__.ld(counter)\n",
            "            counter += 1\n",
            "        num = ag__.Undefined('num')\n",
            "        ag__.for_stmt(ag__.converted_call(ag__.ld(range), (ag__.ld(max_num),), None, fscope), None, loop_body, get_state_3, set_state_3, ('counter',), {'iterate_names': 'num'})\n",
            "        try:\n",
            "            do_return = True\n",
            "            retval_ = ag__.ld(counter)\n",
            "        except:\n",
            "            do_return = False\n",
            "            raise\n",
            "        return fscope.ret(retval_, do_return)\n",
            "\n"
          ]
        }
      ]
    },
    {
      "cell_type": "code",
      "source": [
        ""
      ],
      "metadata": {
        "id": "djYKp2V2b7Fi"
      },
      "execution_count": null,
      "outputs": []
    }
  ]
}